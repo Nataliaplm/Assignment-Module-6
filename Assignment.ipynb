{
  "metadata": {
    "kernelspec": {
      "name": "python",
      "display_name": "Python (Pyodide)",
      "language": "python"
    },
    "language_info": {
      "codemirror_mode": {
        "name": "python",
        "version": 3
      },
      "file_extension": ".py",
      "mimetype": "text/x-python",
      "name": "python",
      "nbconvert_exporter": "python",
      "pygments_lexer": "ipython3",
      "version": "3.8"
    }
  },
  "nbformat_minor": 4,
  "nbformat": 4,
  "cells": [
    {
      "cell_type": "code",
      "source": "Exercise 2 - Create a markdown cell with the title of the notebook. ",
      "metadata": {
        "trusted": true
      },
      "outputs": [],
      "execution_count": null
    },
    {
      "cell_type": "markdown",
      "source": "# Module 6 Assignment",
      "metadata": {}
    },
    {
      "cell_type": "code",
      "source": "Exercise 3 - Create a markdown cell for an introduction. ",
      "metadata": {
        "trusted": true
      },
      "outputs": [],
      "execution_count": null
    },
    {
      "cell_type": "markdown",
      "source": "## Introduction\nThis cell is an introduction for Module 6 Assignment.\n",
      "metadata": {}
    },
    {
      "cell_type": "code",
      "source": "Exercise 4 - Create a markdown cell to list data science languages.",
      "metadata": {
        "trusted": true
      },
      "outputs": [],
      "execution_count": null
    },
    {
      "cell_type": "markdown",
      "source": "## Data Science Languages\nSome popular programming languages in Data Science are:\n- Python\n- R\n- SQL\n- Julia\n- Scala\n- Java\n- C++\n",
      "metadata": {}
    },
    {
      "cell_type": "markdown",
      "source": "Exercise 5 - Create a markdown cell to list data science libraries.",
      "metadata": {}
    },
    {
      "cell_type": "markdown",
      "source": "## Data Science Libraries\nOrdered list of some popular libraries used in Data Science:\n1. NumPy\n2. Pandas\n3. Matplotlib\n4. Scikit-learn\n5. TensorFlow\n6. PyTorch\n7. Keras",
      "metadata": {}
    },
    {
      "cell_type": "code",
      "source": "Exercise 6 - Create a markdown cell with a table of Data Science tools.",
      "metadata": {
        "trusted": true
      },
      "outputs": [],
      "execution_count": null
    },
    {
      "cell_type": "markdown",
      "source": "## Data Science Tools\n\n| Tool            | Description                               |\n|-----------------|-------------------------------------------|\n| Jupyter Notebook| An open-source web application for coding, writing, and sharing notebooks. |\n| RStudio         | An IDE for the R programming language.   |\n| Apache Spark    | A unified analytics engine for big data processing. |\n| TensorFlow      | An open-source platform for machine learning. |\n| Tableau         | A visual analytics platform for data visualization. |\n",
      "metadata": {}
    },
    {
      "cell_type": "code",
      "source": "Exercise 7 - Create a markdown cell introducing arithmetic expression examples. ",
      "metadata": {
        "trusted": true
      },
      "outputs": [],
      "execution_count": null
    },
    {
      "cell_type": "markdown",
      "source": "## Arithmetic Expression Examples\nBelow are some examples of basic arithmetic expressions:\n\n- Addition: 5 + 3 = 8\n- Subtraction: 10 - 7 = 3\n- Multiplication: 4 * 6 = 24\n- Division: 20 / 5 = 4",
      "metadata": {}
    },
    {
      "cell_type": "code",
      "source": "Exercise 8 - Create a code cell to multiply and add numbers. ",
      "metadata": {
        "trusted": true
      },
      "outputs": [],
      "execution_count": null
    },
    {
      "cell_type": "code",
      "source": "# Multiplication\nproduct = 8 * 7\nprint(\"The product resul is:\", product)\n\n# Addition\nsum_result = 8 + 7\nprint(\"The sum result is:\", sum_result)\n",
      "metadata": {
        "trusted": true
      },
      "outputs": [
        {
          "name": "stdout",
          "text": "The product resul is: 56\nThe sum result is: 15\n",
          "output_type": "stream"
        }
      ],
      "execution_count": 5
    },
    {
      "cell_type": "code",
      "source": "Exercise 9 - Create a code cell to convert minutes to hours. ",
      "metadata": {
        "trusted": true
      },
      "outputs": [],
      "execution_count": null
    },
    {
      "cell_type": "code",
      "source": "minutes = 150\nhours = minutes / 60\nprint(str(minutes) + \" minutes are \" + str(hours) + \" hours\")\n",
      "metadata": {
        "trusted": true
      },
      "outputs": [
        {
          "name": "stdout",
          "text": "150 minutes are 2.5 hours\n",
          "output_type": "stream"
        }
      ],
      "execution_count": 7
    },
    {
      "cell_type": "code",
      "source": "Exercise 10 -Insert a markdown cell to list Objectives.",
      "metadata": {
        "trusted": true
      },
      "outputs": [],
      "execution_count": null
    },
    {
      "cell_type": "markdown",
      "source": "## Objectives\nThe objectives of this notebook are:\n- Learn Data Science.\n- Learn how to use Jupyter Notebooks.\n- Learn Python.\n",
      "metadata": {}
    },
    {
      "cell_type": "code",
      "source": "Exercise 11 - Create a markdown cell to indicate the Author’s name. ",
      "metadata": {
        "trusted": true
      },
      "outputs": [],
      "execution_count": null
    },
    {
      "cell_type": "markdown",
      "source": "## Author\nThis notebook was created by:\nNatalia Palomo",
      "metadata": {}
    },
    {
      "cell_type": "code",
      "source": "Exercise 12 - Share your notebook through GitHub ",
      "metadata": {
        "trusted": true
      },
      "outputs": [],
      "execution_count": null
    }
  ]
}